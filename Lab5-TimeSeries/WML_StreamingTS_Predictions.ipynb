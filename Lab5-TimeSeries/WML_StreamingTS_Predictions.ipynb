{
 "cells": [
  {
   "cell_type": "markdown",
   "metadata": {},
   "source": [
    "# Streaming TimeSeries prediction using SPSS Flow deployed in WML\n",
    "\n",
    "**(C) 2021 IBM - Philippe Gregoire - Ecosystem Advocacy Group Europe - Partners Technical Enablement**\n",
    "\n",
    "## Prerequisites:\n",
    "* A SPSS Flow with a Streaming Time Series node must be deployed to Watson Machine Learning\n",
    "* An input file in CSV format with columns matching the deployed WML SPSS model must be present in Cloud Object Storage\n",
    "\n",
    "## Operations\n",
    "* We first load the CSV file from COS into a pandas DataFrame, `df_data`\n",
    "* That dataframe is converted to an array of rows, each row itself being an array or individual values.\n",
    "* We initialize the WML client with the WML credentials where that model is deployed.\n",
    "* The array of timeseries values is fed into a WML prediction call\n",
    "* The predictions are returned in JSON-formatted text\n",
    "* We convert the text to JSON (Python dictionary) and then back to a Results DataFrame\n",
    "* The predictions DataFrame is then stored in a new file in COS\n",
    "\n",
    "## Notes\n",
    "* Here we assume that the input CSV file has been created in COS from its DB2 data source tables, using a Data refinery flow that has joined the two\n",
    "* We could also connect directly to the DB2 tables and build the dataframe from there rather than going through COS"
   ]
  },
  {
   "attachments": {
    "image.png": {
     "image/png": "[encoded data removed]"
    }
   },
   "cell_type": "markdown",
   "metadata": {},
   "source": [
    "### First step: Insert project token\n",
    "From the vertical ellipsis button at the top right, select `Insert project token` ![image.png](attachment:image.png)\n",
    "\n",
    "==> This creates a new code cell as the first cell in the notebook, scroll up from here and execute it"
   ]
  },
  {
   "cell_type": "code",
   "execution_count": null,
   "metadata": {},
   "outputs": [],
   "source": [
    "# test if we have a project context now\n",
    "try:\n",
    "    print(f\"Project name: {project.get_name()}\")\n",
    "except:\n",
    "    print(\"No project context, please insert project token and Run resulting cell\")"
   ]
  },
  {
   "attachments": {
    "image.png": {
     "image/png": "[encoded data removed]"
    }
   },
   "cell_type": "markdown",
   "metadata": {},
   "source": [
    "### Upload the Deployment Space APIKey `json` file\n",
    "* obtain an API Key from https://cloud.ibm.com/iam/apikeys\n",
    "* Open the Add data panel from the menu at the top right ![image.png](attachment:image.png)\n",
    "* Upload the `AccountAPIKey.json` file to the Data files"
   ]
  },
  {
   "cell_type": "code",
   "execution_count": null,
   "metadata": {},
   "outputs": [],
   "source": [
    "# Load the APIKey\n",
    "import json\n",
    "try:\n",
    "    apikey=json.load(project.get_file('AccountAPIKey.json'))\n",
    "    print(f\"Loaded API Key {apikey['name']}\")\n",
    "except:\n",
    "    print(f\"API Key not loaded, 'AccountAPIKey.json' file is not a data asset, please add it\")"
   ]
  },
  {
   "cell_type": "markdown",
   "metadata": {},
   "source": [
    "> **NOTE**: You will have to insert your spaceID down below\n",
    "It can be foundin the deployment space Manage tab, under Space GUID"
   ]
  },
  {
   "cell_type": "code",
   "execution_count": null,
   "metadata": {},
   "outputs": [],
   "source": [
    "# Setup some constants\n",
    "# Name of the timestamp field/column\n",
    "key_ts='DATE_'\n",
    "# Number of Markets\n",
    "MarketMax=85\n",
    "# Name of WML model\n",
    "TSModelName='Online_Market_Predict'\n",
    "#\n",
    "location='us-south'\n",
    "# SpaceID from the space's properties\n",
    "spaceID='d58d26ff-40c6-4e51-961b-71dabff4ab06'"
   ]
  },
  {
   "cell_type": "markdown",
   "metadata": {},
   "source": [
    "## Load the data to score from file into a dataframe "
   ]
  },
  {
   "cell_type": "code",
   "execution_count": null,
   "metadata": {},
   "outputs": [],
   "source": [
    "# Read the input Time Series file\n",
    "import pandas as pd\n",
    "df_ts = pd.read_csv(project.get_file('broadband.csv'))\n",
    "df_ts.describe()"
   ]
  },
  {
   "cell_type": "code",
   "execution_count": null,
   "metadata": {},
   "outputs": [],
   "source": [
    "# Adjust types, so that we can sort on timestamp\n",
    "df_ts[key_ts]=pd.to_datetime(df_ts[key_ts])\n",
    "# show some statistics\n",
    "df_ts.dtypes.to_frame().transpose().append(df_ts.describe())"
   ]
  },
  {
   "cell_type": "code",
   "execution_count": null,
   "metadata": {},
   "outputs": [],
   "source": [
    "# plot Market_1 to market_5 after setting index to the DATE_ column\n",
    "df_ts.set_index(key_ts)[['Market_{}'.format(x+1) for x in range(0,MarketMax)]].plot(figsize=(20,15));"
   ]
  },
  {
   "cell_type": "code",
   "execution_count": null,
   "metadata": {},
   "outputs": [],
   "source": [
    "# Locate the WML model\n",
    "from ibm_watson_machine_learning import APIClient\n",
    "wml_credentials = {\n",
    "    \"apikey\": apikey['apikey'],\n",
    "    \"url\": 'https://' + location + '.ml.cloud.ibm.com'\n",
    "}\n",
    "wmlClient = APIClient(wml_credentials)\n",
    "wmlClient.set.default_space(spaceID)"
   ]
  },
  {
   "cell_type": "code",
   "execution_count": null,
   "metadata": {},
   "outputs": [],
   "source": [
    "wmlClient.deployments.get_details()['resources']"
   ]
  },
  {
   "cell_type": "code",
   "execution_count": null,
   "metadata": {},
   "outputs": [],
   "source": [
    "# Find our model deployment\n",
    "res=wmlClient.deployments.get_details()['resources']\n",
    "depls=[x['entity'] for x in res if x['entity']['name']==TSModelName]\n",
    "if len(depls)>0:\n",
    "    depl=depls[0]\n",
    "    print(f\"Got deployment for model {TSModelName}\")\n",
    "else:\n",
    "    print(f\"Deployment with name {TSModelName} not found. Existing deployments: {','.join([x['entity']['name'] for x in res])}\")"
   ]
  },
  {
   "cell_type": "code",
   "execution_count": null,
   "metadata": {},
   "outputs": [],
   "source": [
    "# Get the model details\n",
    "model=wmlClient.repository.get_model_details(depl['asset']['id'])"
   ]
  },
  {
   "cell_type": "code",
   "execution_count": null,
   "metadata": {},
   "outputs": [],
   "source": [
    "# Create a data frame structure that matches the model's 'input_data_schema'\n",
    "input_columns=[x['name'] for x in model['entity']['schemas']['input'][0]['fields']]\n",
    "df_ts=df_ts[input_columns]"
   ]
  },
  {
   "cell_type": "code",
   "execution_count": null,
   "metadata": {},
   "outputs": [],
   "source": [
    "# Extract input table as array of values suitable for WML invocation input\n",
    "values_ts=[[str(e) for e in r] for r in df_ts.itertuples(index=False,name=None)]\n",
    "print(\"predicting with {} lines as input\".format(len(values_ts)))\n",
    "payload_predict = {\"input_data\":[{\"fields\": input_columns, \"values\": values_ts}]}"
   ]
  },
  {
   "cell_type": "code",
   "execution_count": null,
   "metadata": {},
   "outputs": [],
   "source": [
    "# Score using the WML API\n",
    "deplId=depl['status']['online_url']['url'].split('/')[-2]\n",
    "predictions = wmlClient.deployments.score(deplId, payload_predict)"
   ]
  },
  {
   "cell_type": "code",
   "execution_count": null,
   "metadata": {},
   "outputs": [],
   "source": [
    "# Convert response back to dataframe\n",
    "dfPredict=pd.DataFrame.from_records(predictions['predictions'][0]['values'],columns=predictions['predictions'][0]['fields'])\n",
    "# Convert TS column\n",
    "dfPredict[key_ts]=pd.to_datetime(dfPredict[key_ts],format=\"%Y-%m-%d %H:%M %p %Z\")\n",
    "dfPredict"
   ]
  },
  {
   "cell_type": "code",
   "execution_count": null,
   "metadata": {},
   "outputs": [],
   "source": [
    "# Plot\n",
    "dfPredict.set_index(key_ts).plot(figsize=(20,15));"
   ]
  },
  {
   "cell_type": "code",
   "execution_count": null,
   "metadata": {},
   "outputs": [],
   "source": [
    "# plot each market\n",
    "marketNum=4\n",
    "for marketNum in range(1,6):\n",
    "    marketCols=[key_ts]\n",
    "    [marketCols.append(x) for x in dfPredict.columns if x.endswith('Market_{}'.format(marketNum)) and x.find(\"Residual\")==-1]\n",
    "    dfPredict[marketCols].set_index(key_ts).plot(figsize=(20,3));\n",
    "    dfPredict[[key_ts,'$TSResidual-Market_{}'.format(marketNum)]].set_index(key_ts).plot(figsize=(20,1));"
   ]
  }
 ],
 "metadata": {
  "kernelspec": {
   "display_name": "Python 3.7",
   "language": "python",
   "name": "python3"
  },
  "language_info": {
   "codemirror_mode": {
    "name": "ipython",
    "version": 3
   },
   "file_extension": ".py",
   "mimetype": "text/x-python",
   "name": "python",
   "nbconvert_exporter": "python",
   "pygments_lexer": "ipython3",
   "version": "3.7.10"
  }
 },
 "nbformat": 4,
 "nbformat_minor": 1
}
