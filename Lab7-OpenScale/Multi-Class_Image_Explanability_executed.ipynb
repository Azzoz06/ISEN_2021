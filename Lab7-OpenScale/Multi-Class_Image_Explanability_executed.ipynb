{
 "cells": [
  {
   "cell_type": "markdown",
   "metadata": {},
   "source": [
    "<img src=\"https://github.com/pmservice/ai-openscale-tutorials/raw/master/notebooks/images/banner.png\" align=\"left\" alt=\"banner\">"
   ]
  },
  {
   "cell_type": "markdown",
   "metadata": {},
   "source": [
    "# Generating explanations for an image-based model with Watson OpenScale\n",
    "\n",
    "This notebook includes steps for importing a Keras deep learning model, deploying it in Watson machine Learning, then configuring Watson Open Scale to monitor this model and generate image classification predictions explanations."
   ]
  },
  {
   "cell_type": "markdown",
   "metadata": {},
   "source": [
    "### Contents\n",
    "- [1. Setup](#setup)\n",
    "- [2. Creating and deploying an image-based model](#deployment)\n",
    "- [3. Subscriptions](#subscription)\n",
    "- [4. Explainability](#explainability)\n",
    "\n",
    "**Note**: In Watson Studio Cloud, run the notebook on at least 'Default Python 3.5 S' environment for faster operations."
   ]
  },
  {
   "cell_type": "markdown",
   "metadata": {},
   "source": [
    "<a id=\"setup\"></a>\n",
    "## 1. Setup\n",
    "\n",
    "### 1.1 Install Watson OpenScale and WML packages\n",
    "\n",
    "The follwoing cell will upgrade the WML and Watson OpenScale libraries to their latest version\n",
    "\n",
    "The Watson OpenScale Python API is documented at http://ai-openscale-python-client.mybluemix.net/"
   ]
  },
  {
   "cell_type": "code",
   "execution_count": 1,
   "metadata": {},
   "outputs": [
    {
     "name": "stdout",
     "output_type": "stream",
     "text": [
      "WML client library version is 1.0.376\n"
     ]
    },
    {
     "name": "stderr",
     "output_type": "stream",
     "text": [
      "2020-02-05 23:06:47,301 - tensorflow - WARNING - From /opt/conda/envs/Python36/lib/python3.6/site-packages/tensorflow/python/framework/op_def_library.py:263: colocate_with (from tensorflow.python.framework.ops) is deprecated and will be removed in a future version.\n",
      "Instructions for updating:\n",
      "Colocations handled automatically by placer.\n",
      "2020-02-05 23:06:47,340 - tensorflow - WARNING - From /opt/conda/envs/Python36/lib/python3.6/site-packages/keras/backend/tensorflow_backend.py:3445: calling dropout (from tensorflow.python.ops.nn_ops) with keep_prob is deprecated and will be removed in a future version.\n",
      "Instructions for updating:\n",
      "Please use `rate` instead of `keep_prob`. Rate should be set to `rate = 1 - keep_prob`.\n",
      "2020-02-05 23:06:47,682 - tensorflow - WARNING - From /opt/conda/envs/Python36/lib/python3.6/site-packages/tensorflow/python/ops/math_ops.py:3066: to_int32 (from tensorflow.python.ops.math_ops) is deprecated and will be removed in a future version.\n",
      "Instructions for updating:\n",
      "Use tf.cast instead.\n"
     ]
    }
   ],
   "source": [
    "try:\n",
    "    import watson_machine_learning_client\n",
    "    if not watson_machine_learning_client.utils.version().startswith('1.0.37'):\n",
    "        raise ImportError()\n",
    "except ImportError:\n",
    "    !pip install --upgrade watson-machine-learning-client --no-cache | tail -n 1\n",
    "    # !pip install watson-machine-learning-client==1.0.378\n",
    "import watson_machine_learning_client\n",
    "print(f\"WML client library version is {watson_machine_learning_client.utils.version()}\")"
   ]
  },
  {
   "cell_type": "code",
   "execution_count": 2,
   "metadata": {},
   "outputs": [
    {
     "name": "stdout",
     "output_type": "stream",
     "text": [
      "Collecting ibm-ai-openscale\n",
      "\u001b[?25l  Downloading https://files.pythonhosted.org/packages/69/64/84fc6efd589e55d6b6b912b32010d0dd86d53e45856c43080047c2cb3b98/ibm_ai_openscale-2.1.21-py3-none-any.whl (587kB)\n",
      "\u001b[K     |████████████████████████████████| 593kB 9.4MB/s eta 0:00:01\n",
      "\u001b[?25hRequirement already satisfied, skipping upgrade: requests in /opt/conda/envs/Python36/lib/python3.6/site-packages (from ibm-ai-openscale) (2.21.0)\n",
      "Requirement already satisfied, skipping upgrade: pandas in /opt/conda/envs/Python36/lib/python3.6/site-packages (from ibm-ai-openscale) (0.24.1)\n",
      "Requirement already satisfied, skipping upgrade: h5py in /opt/conda/envs/Python36/lib/python3.6/site-packages (from ibm-ai-openscale) (2.9.0)\n",
      "Requirement already satisfied, skipping upgrade: tabulate in /opt/conda/envs/Python36/lib/python3.6/site-packages (from ibm-ai-openscale) (0.8.2)\n",
      "Requirement already satisfied, skipping upgrade: chardet<3.1.0,>=3.0.2 in /opt/conda/envs/Python36/lib/python3.6/site-packages (from requests->ibm-ai-openscale) (3.0.4)\n",
      "Requirement already satisfied, skipping upgrade: certifi>=2017.4.17 in /opt/conda/envs/Python36/lib/python3.6/site-packages (from requests->ibm-ai-openscale) (2019.11.28)\n",
      "Requirement already satisfied, skipping upgrade: idna<2.9,>=2.5 in /opt/conda/envs/Python36/lib/python3.6/site-packages (from requests->ibm-ai-openscale) (2.8)\n",
      "Requirement already satisfied, skipping upgrade: urllib3<1.25,>=1.21.1 in /opt/conda/envs/Python36/lib/python3.6/site-packages (from requests->ibm-ai-openscale) (1.24.1)\n",
      "Requirement already satisfied, skipping upgrade: pytz>=2011k in /opt/conda/envs/Python36/lib/python3.6/site-packages (from pandas->ibm-ai-openscale) (2018.9)\n",
      "Requirement already satisfied, skipping upgrade: numpy>=1.12.0 in /opt/conda/envs/Python36/lib/python3.6/site-packages (from pandas->ibm-ai-openscale) (1.15.4)\n",
      "Requirement already satisfied, skipping upgrade: python-dateutil>=2.5.0 in /opt/conda/envs/Python36/lib/python3.6/site-packages (from pandas->ibm-ai-openscale) (2.7.5)\n",
      "Requirement already satisfied, skipping upgrade: six in /opt/conda/envs/Python36/lib/python3.6/site-packages (from h5py->ibm-ai-openscale) (1.12.0)\n",
      "Installing collected packages: ibm-ai-openscale\n",
      "Successfully installed ibm-ai-openscale-2.1.21\n",
      "Watson OpenScale client library version is 2.1.21\n"
     ]
    }
   ],
   "source": [
    "try:\n",
    "    import ibm_ai_openscale\n",
    "    if not ibm_ai_openscale.utils.version().startswith('2.1.21'):\n",
    "        raise ImportError()\n",
    "except ImportError:\n",
    "    !pip install --upgrade ibm-ai-openscale\n",
    "    # !pip install ibm-ai-openscale==2.1.21\n",
    "import ibm_ai_openscale\n",
    "print(f\"Watson OpenScale client library version is {ibm_ai_openscale.utils.version()}\")"
   ]
  },
  {
   "cell_type": "markdown",
   "metadata": {},
   "source": [
    "> Note: You may need to restart the kernel to ensure that the newly installed libraries are being used."
   ]
  },
  {
   "cell_type": "markdown",
   "metadata": {},
   "source": [
    "### 1.2 Configure credentials"
   ]
  },
  {
   "cell_type": "markdown",
   "metadata": {},
   "source": [
    "To run this Lab you need to have a valid instance of Watson Openscale.\n",
    "\n",
    "To verify if you have one, go to the [cloud console](https://cloud.ibm.com/resources), clicking on `Services` you should see your Watson OpenScale instance listed.\n",
    "\n",
    "if not then from that screen click the upper right button **\"Create ressource\"**.\n",
    "From the search entry type 'openscale' and create a lite plan of Watson OpenScale.\n",
    "\n",
    "You also need a valid **IBM Cloud API Key** to assign the variable in the next cell.\n",
    "\n",
    "To get it go to the [IBM Cloud console](https://console.bluemix.net/) then click from the upper toolbar `Manage->Access (IAM)`. \n",
    "Select `IBM Cloud API Keys` from the left hand sidebar and then click the **\"Create an IBM Cloud API Key\"** button.\n",
    "\n",
    "From that page, give your key a name and click Create, then copy the created key and paste it below. "
   ]
  },
  {
   "cell_type": "code",
   "execution_count": 3,
   "metadata": {},
   "outputs": [],
   "source": [
    "# @hidden_cell\n",
    "CLOUD_API_KEY = \"<insert your own CLOUD-API-KEY here>\""
   ]
  },
  {
   "cell_type": "code",
   "execution_count": 4,
   "metadata": {},
   "outputs": [
    {
     "name": "stdout",
     "output_type": "stream",
     "text": [
      "Got Watson OpenScale instance GUID bd9e971c-b24b-4286-9336-5f8d889e0320\n"
     ]
    }
   ],
   "source": [
    "import ibm_ai_openscale\n",
    "\n",
    "WOS_GUID = ibm_ai_openscale.utils.get_instance_guid(api_key=CLOUD_API_KEY)\n",
    "AIOS_CREDENTIALS = {\n",
    "    \"instance_guid\": WOS_GUID,\n",
    "    \"apikey\": CLOUD_API_KEY,\n",
    "    \"url\": \"https://api.aiopenscale.cloud.ibm.com\"\n",
    "}\n",
    "\n",
    "if WOS_GUID is None:\n",
    "    print('Watson OpenScale GUID NOT FOUND')\n",
    "else:\n",
    "    print(f\"Got Watson OpenScale instance GUID {WOS_GUID}\")"
   ]
  },
  {
   "cell_type": "markdown",
   "metadata": {},
   "source": [
    "You also need to have a valid instance of Watson Machine Learning (runtime for your models) running.\n",
    "\n",
    "To verify if you have one, go to the [cloud console](https://cloud.ibm.com/resources), clicking on `Services` you should see your Watson Machine Learning instance listed.\n",
    "\n",
    "if not then from that screen click the upper right button **\"Create ressource\"**.\n",
    "From the search entry type 'Machine Learning' and create a lite plan of Watson Machine Learning. \n",
    "MAKE SURE THE REGION FIELD GOT **DALLAS** as value if not modify it accordingly.\n",
    "\n",
    "From the IBM Cloud Resource list click on the Watson Machine Learning instance and from this page click the service credentials side bar item.\n",
    "clik on view **'credentials'** and copy the all json info provided as follow :\n",
    "\n",
    "```\n",
    "{\n",
    "  \"apikey\": \"XXXXXXXXXX\",\n",
    "  \"iam_apikey_description\": \"Auto-generated for key XXXX-YYYYY-ZZZZZZ\",\n",
    "  \"iam_apikey_name\": \"WML-credentials\",\n",
    "  \"iam_role_crn\": \"crn:v1:bluemix:public:iam::::serviceRole:Writer\",\n",
    "  \"iam_serviceid_crn\": \"crn:v1:bluemix:public:iam-identity::a/XXXXXXXX::serviceid:ServiceId-XXXX-YYYYYY-ZZZZZZZZ\",\n",
    "  \"instance_id\": \"WWWWWWWWWWWWWWWW\",\n",
    "  \"url\": \"https://us-south.ml.cloud.ibm.com\"\n",
    "}\n",
    "```   \n",
    "    \n",
    "\n",
    "replace the following variable with the obtained json data."
   ]
  },
  {
   "cell_type": "code",
   "execution_count": 5,
   "metadata": {},
   "outputs": [],
   "source": [
    "# @hidden_cell\n",
    "WML_CREDENTIALS = {\n",
    "  \"apikey\": \"xxxxxxxxxxxxxx\",\n",
    "  \"iam_apikey_description\": \"Auto-generated for key yyyyyyyyyyyyy\",\n",
    "  \"iam_apikey_name\": \"Service credentials-WML4JLC\",\n",
    "  \"iam_role_crn\": \"crn:v1:bluemix:public:iam::::serviceRole:Writer\",\n",
    "  \"instance_id\": \"xxxxxxx\",\n",
    "  \"url\": \"https://us-south.ml.cloud.ibm.com\"\n",
    "}"
   ]
  },
  {
   "cell_type": "code",
   "execution_count": 6,
   "metadata": {},
   "outputs": [],
   "source": [
    "# Utility function to wait for a certain amount of time\n",
    "import sys, time\n",
    "\n",
    "def Wait(seconds, Speed=5):\n",
    "    Chars = [\"|\",\"/\",\"-\",\"\\\\\"]\n",
    "    MaxChars = len(Chars)\n",
    "    sys.stdout.flush()\n",
    "    for i in range(seconds*Speed):\n",
    "        sys.stdout.write(f\"\\r{Chars[i % MaxChars]} {seconds-int(i/Speed)}\")\n",
    "        sys.stdout.flush()\n",
    "        time.sleep(1/Speed)\n",
    "    sys.stdout.write(\"\\r         \")\n",
    "#Wait(5)"
   ]
  },
  {
   "cell_type": "markdown",
   "metadata": {},
   "source": [
    "<a id=\"deployment\"></a>\n",
    "## 2. Creating and deploying an image-based model\n",
    "\n",
    "In the previous lab, we have generated and trained a NN Model for Handwritten Digit recognition based on the MNIST dataset, which consists in 60k 28x28 grayscale images of the 10 digits, along with a test set of 10k images.    \n",
    "More information about the dataset can be found here: https://keras.io/datasets/#mnist-database-of-handwritten-digits\n",
    "\n",
    "We could reuse this model here, for the sake of simplicity, a trained model file is also provided with this lab material"
   ]
  },
  {
   "attachments": {
    "2020-01-21_18-43-59.png": {
     "image/png": "[encoded data removed]"
    },
    "2020-01-21_18-49-24.png": {
     "image/png": "[encoded data removed]"
    }
   },
   "cell_type": "markdown",
   "metadata": {},
   "source": [
    "if you don't want to train the model during this lab, which is quite time consumming (15 mn average) depending on the size of your python/jupyter environment, you can use a pre-trained model provided to you with this notebook file.\n",
    "You also have the definition and trained weights of the model in a file called **HandWrittenDigit-CNN.h5**\n",
    "\n",
    "**Keras also supports a simpler interface to save both the model weights and model architecture together into a single H5 file, \n",
    "while the HDF5 format store only Model weights and therefore the model architecture is provided as a JSON format.**\n",
    "    \n",
    "* Saving/Loading the model in H5 includes everything we need to know about the model, including:\n",
    "    - Model weights.\n",
    "    - Model architecture.\n",
    "    - Model compilation details (loss and metrics).\n",
    "    - Model optimizer state.\n",
    "* This means that we can load and use the model directly, without having to re-compile it.\n",
    "\n",
    "To upload the HD5 file and use it please procedd as follow :\n",
    "\n",
    "From the upper toolbar select the ![2020-01-21_18-43-59.png](attachment:2020-01-21_18-43-59.png) icon and Files tab, then drop the  **HandWrittenDigit-CNN.h5** file provided in the box folder onto the drop area:![2020-01-21_18-49-24.png](attachment:2020-01-21_18-49-24.png) to create a data asset for it.\n",
    "\n",
    "Move your cursor on the cell bellow and remove everything (cell fully empty !)\n",
    "\n",
    "Once done click the drop down arrow of the right hand side window where **HandWrittenDigit-CNN.h5** is and select **insert to code>>Insert Credentials**\n",
    "\n",
    "The equivalent cell should now have your own credentials, which will be used in the subsequent cells to load the model.\n",
    "\n",
    "This enables to use the already trained model's `HD5` definition and weights instead of having to retrain it."
   ]
  },
  {
   "cell_type": "code",
   "execution_count": 7,
   "metadata": {},
   "outputs": [],
   "source": [
    "# @hidden_cell\n",
    "# The following code contains the credentials for a file in your IBM Cloud Object Storage.\n",
    "# You might want to remove those credentials before you share your notebook.\n",
    "credentials_1 = {\n",
    "    'IAM_SERVICE_ID': 'iam-ServiceId-c4f0e073-8745-4c4b-863a-24cc81ae65ee',\n",
    "    'IBM_API_KEY_ID': 'sU4LuSImRo70PbrprlSBQOHouuKmrgzU5BaGpToanDLO',\n",
    "    'ENDPOINT': 'https://s3-api.us-geo.objectstorage.service.networklayer.com',\n",
    "    'IBM_AUTH_ENDPOINT': 'https://iam.ng.bluemix.net/oidc/token',\n",
    "    'BUCKET': 'watsonstudiows2020-donotdelete-pr-gyityavxovtrbp',\n",
    "    'FILE': 'HandWrittenDigit-CNN.h5'\n",
    "}"
   ]
  },
  {
   "cell_type": "code",
   "execution_count": 8,
   "metadata": {},
   "outputs": [],
   "source": [
    "import ibm_boto3\n",
    "from botocore.client import Config\n",
    "\n",
    "# The following code accesses a file in your IBM Cloud Object Storage. It includes your credentials.\n",
    "# You might want to remove those credentials before you share the notebook.\n",
    "Client_COS = ibm_boto3.client(service_name='s3',\n",
    "    ibm_api_key_id=credentials_1['IBM_API_KEY_ID'],\n",
    "    ibm_auth_endpoint=credentials_1['IBM_AUTH_ENDPOINT'],\n",
    "    config=Config(signature_version='oauth'),\n",
    "    endpoint_url=credentials_1['ENDPOINT'])\n",
    "ModelFile = credentials_1['FILE']"
   ]
  },
  {
   "cell_type": "markdown",
   "metadata": {},
   "source": [
    "We now download the trained model file to the local (transient) filesystem and load it as a Keras model"
   ]
  },
  {
   "cell_type": "code",
   "execution_count": 9,
   "metadata": {},
   "outputs": [
    {
     "name": "stdout",
     "output_type": "stream",
     "text": [
      "_________________________________________________________________\n",
      "Layer (type)                 Output Shape              Param #   \n",
      "=================================================================\n",
      "conv2d_1 (Conv2D)            (None, 26, 26, 32)        320       \n",
      "_________________________________________________________________\n",
      "conv2d_2 (Conv2D)            (None, 24, 24, 64)        18496     \n",
      "_________________________________________________________________\n",
      "max_pooling2d_1 (MaxPooling2 (None, 12, 12, 64)        0         \n",
      "_________________________________________________________________\n",
      "dropout_1 (Dropout)          (None, 12, 12, 64)        0         \n",
      "_________________________________________________________________\n",
      "flatten_1 (Flatten)          (None, 9216)              0         \n",
      "_________________________________________________________________\n",
      "dense_1 (Dense)              (None, 128)               1179776   \n",
      "_________________________________________________________________\n",
      "dropout_2 (Dropout)          (None, 128)               0         \n",
      "_________________________________________________________________\n",
      "dense_2 (Dense)              (None, 10)                1290      \n",
      "=================================================================\n",
      "Total params: 1,199,882\n",
      "Trainable params: 1,199,882\n",
      "Non-trainable params: 0\n",
      "_________________________________________________________________\n"
     ]
    }
   ],
   "source": [
    "import keras\n",
    "\n",
    "Client_COS.download_file(Bucket=credentials_1['BUCKET'], Key=ModelFile,Filename=ModelFile)\n",
    "cnn_n = keras.models.load_model(ModelFile)\n",
    "cnn_n.summary()"
   ]
  },
  {
   "cell_type": "markdown",
   "metadata": {},
   "source": [
    "### 2.1 Accessing and cleaning-up WML\n",
    "\n",
    "We access WML and clean-up some of the artifacts"
   ]
  },
  {
   "cell_type": "code",
   "execution_count": 10,
   "metadata": {},
   "outputs": [
    {
     "name": "stdout",
     "output_type": "stream",
     "text": [
      "WML instance predictions usage 16 out of 1000000 0.00 %\n"
     ]
    }
   ],
   "source": [
    "import watson_machine_learning_client\n",
    "\n",
    "wml_client = watson_machine_learning_client.WatsonMachineLearningAPIClient(WML_CREDENTIALS)\n",
    "predUsage=wml_client.service_instance.details.get('entity').get('usage').get('prediction_count')\n",
    "predCur,predLim=int(predUsage.get('current')),int(predUsage.get('limit'))\n",
    "print(f\"WML instance predictions usage {predCur} out of {predLim} {(100*predCur)/predLim:.2f} %\")\n",
    "\n",
    "# This is the name we will use for our model explanations\n",
    "model_name = \"MNISTModelExp\""
   ]
  },
  {
   "cell_type": "markdown",
   "metadata": {},
   "source": [
    "### Optional cleanup\n",
    "Running the following cell is optional, it will clean-up the WML repository of artifacts that may have been generated by successive runs of this code"
   ]
  },
  {
   "cell_type": "code",
   "execution_count": 12,
   "metadata": {},
   "outputs": [
    {
     "name": "stdout",
     "output_type": "stream",
     "text": [
      "Definitions names=['KerasMNIST', 'Spark German Risk Model - Final']\n",
      "Models names=['GermanCreditRiskModel', 'Table', 'Spark German Risk Model - Final']\n",
      "------------------------------------  ------------------------------------  ------------------------  -----------------  -----------------\n",
      "GUID                                  NAME                                  CREATED                   FRAMEWORK          TYPE\n",
      "a55c5f6a-3873-4592-ac0e-d963fee7767d  Spark German Risk Model - Final       2020-01-20T23:14:49.517Z  mllib              definition\n",
      "bb167223-0a3f-4f6b-9f1f-de761370f4cc  KerasMNIST                            2020-01-16T17:27:12.073Z  tensorflow         definition\n",
      "14a2893d-dd83-45a6-b480-c50c3c2cda4e  Table                                 2020-01-22T16:05:56.367Z  spss-modeler-18.1  model\n",
      "f40f029d-3bf3-41e0-a3ac-6bc14506b6a6  GermanCreditRiskModel                 2020-01-22T09:16:39.485Z  mllib-2.3          model\n",
      "9440a1ee-b555-4860-8768-70c976342323  Spark German Risk Model - Final       2020-01-20T23:14:58.289Z  mllib-2.3          model\n",
      "4f27492b-570d-4bfc-98ce-c8b76ee78f08  TSpredict                             2020-01-22T16:06:53.620Z  spss-modeler-18.1  online deployment\n",
      "3c60329d-9af5-4dce-b5f1-0887280a4133  GermanCreditRiskModel                 2020-01-22T09:16:42.126Z  mllib-2.3          online deployment\n",
      "5e4abda1-ce9f-471c-9349-7830138a934b  Spark German Risk Deployment - Final  2020-01-20T23:15:29.484Z  mllib-2.3          online deployment\n",
      "------------------------------------  ------------------------------------  ------------------------  -----------------  -----------------\n"
     ]
    }
   ],
   "source": [
    "# Clean-up past models and artifacts with the same name\n",
    "defs=wml_client.repository.get_definition_details()\n",
    "names={r.get('entity').get('name') for r in defs.get('resources')}\n",
    "print(f\"Definitions names={[n for n in names]}\")\n",
    "for g in [r.get('metadata').get('guid') for r in defs.get('resources') if r.get('entity').get('name')==model_name]:\n",
    "    print(f\"Deleting definition {g}: {wml_client.repository.delete_definition(g)}\")\n",
    "    \n",
    "mods=wml_client.repository.get_model_details()\n",
    "names={r.get('entity').get('name') for r in mods.get('resources')}\n",
    "print(f\"Models names={[n for n in names]}\")\n",
    "for g in [r.get('metadata').get('guid') for r in mods.get('resources') if r.get('entity').get('name')==model_name]:\n",
    "    print(f\"Deleting definition {g}: {wml_client.repository.delete(g)}\")\n",
    "    \n",
    "wml_client.repository.list()"
   ]
  },
  {
   "cell_type": "markdown",
   "metadata": {},
   "source": [
    "## Save and deploy model to be Explained in WML"
   ]
  },
  {
   "cell_type": "markdown",
   "metadata": {},
   "source": [
    "### 2.2 Storing the model into WML\n",
    "\n",
    "We will store back this model into Watson Machine Learning model repository so that Watson OpenScale can make use of it\n",
    "\n",
    "We use Keras to generate the model to a local file and then run GZip on it for referencing as WML metadata"
   ]
  },
  {
   "cell_type": "code",
   "execution_count": 13,
   "metadata": {},
   "outputs": [
    {
     "name": "stdout",
     "output_type": "stream",
     "text": [
      "Model stored, guid=7fbfe96d-8688-44ce-9a59-2409f6ae3d83\n"
     ]
    }
   ],
   "source": [
    "# Save the model and package it as a gzipped tar\n",
    "modelFile='mnist_cnn.h5'\n",
    "modelFileZipped='mnist_cnn.tar.gz'\n",
    "cnn_n.save(modelFile)\n",
    "!if [ -f {modelFileZipped} ]; then rm {modelFileZipped}; fi\n",
    "!tar -czf {modelFileZipped} {modelFile}\n",
    "\n",
    "# Update the FRAMEWORK_VERSION below depending on the tensorflow version used\n",
    "published_model_details = wml_client.repository.store_model(model=modelFileZipped,\n",
    "    meta_props= {\n",
    "        wml_client.repository.ModelMetaNames.NAME: model_name,\n",
    "        wml_client.repository.ModelMetaNames.DESCRIPTION: \"MNIST model to Explain\",\n",
    "        wml_client.repository.ModelMetaNames.FRAMEWORK_NAME: \"tensorflow\",\n",
    "        wml_client.repository.ModelMetaNames.FRAMEWORK_VERSION: \"1.13\",\n",
    "        wml_client.repository.ModelMetaNames.FRAMEWORK_LIBRARIES: [{\"name\": \"keras\", \"version\": \"2.2.4\"}]\n",
    "    })\n",
    "print(f\"Model stored, guid={published_model_details.get('metadata').get('guid')}\")"
   ]
  },
  {
   "cell_type": "markdown",
   "metadata": {},
   "source": [
    "### 2.3 Deploying the model\n",
    "We will now deploy the model in WML, using the metadata defined above"
   ]
  },
  {
   "cell_type": "code",
   "execution_count": 14,
   "metadata": {},
   "outputs": [
    {
     "name": "stdout",
     "output_type": "stream",
     "text": [
      "\n",
      "\n",
      "#######################################################################################\n",
      "\n",
      "Synchronous deployment creation for uid: '7fbfe96d-8688-44ce-9a59-2409f6ae3d83' started\n",
      "\n",
      "#######################################################################################\n",
      "\n",
      "\n",
      "INITIALIZING\n",
      "DEPLOY_IN_PROGRESS\n",
      "DEPLOY_SUCCESS\n",
      "\n",
      "\n",
      "------------------------------------------------------------------------------------------------\n",
      "Successfully finished deployment creation, deployment_uid='d2d42899-b1ca-42c8-82a8-9ddee9a742f1'\n",
      "------------------------------------------------------------------------------------------------\n",
      "\n",
      "\n",
      "Model MNISTModelExp with UID 7fbfe96d-8688-44ce-9a59-2409f6ae3d83 deployed, at URL https://us-south.ml.cloud.ibm.com/v3/wml_instances/b56805ef-6249-4925-8876-044f9b42e446/deployments/d2d42899-b1ca-42c8-82a8-9ddee9a742f1/online\n"
     ]
    }
   ],
   "source": [
    "model_uid = wml_client.repository.get_model_uid(published_model_details)\n",
    "deployment= wml_client.deployments.create(name= f\"{model_name} Deployment\", model_uid=model_uid)\n",
    "scoring_url = wml_client.deployments.get_scoring_url(deployment)\n",
    "print(f\"Model {model_name} with UID {model_uid} deployed, at URL {scoring_url}\")"
   ]
  },
  {
   "cell_type": "markdown",
   "metadata": {},
   "source": [
    "## 3. Subscriptions\n",
    "Subscriptions is the means by which Watson OpenScale plugs into Watson Machine Learning to monitor scoring operations on a given deployed model."
   ]
  },
  {
   "cell_type": "markdown",
   "metadata": {},
   "source": [
    "### 3.1 Configuring OpenScale\n",
    "Here we gain access to the Watson OpenScale API"
   ]
  },
  {
   "cell_type": "code",
   "execution_count": 15,
   "metadata": {},
   "outputs": [
    {
     "name": "stdout",
     "output_type": "stream",
     "text": [
      "Using IBM OpenScale client version 2.1.21\n"
     ]
    },
    {
     "data": {
      "text/html": [
       "<HTML>\n",
       "        <body>\n",
       "            <h3>Subscriptions</h3>\n",
       "            <table style='border: 1px solid #dddddd; font-family: Courier'>\n",
       "                <th style='border: 1px solid #dddddd'>uid</th><th style='border: 1px solid #dddddd'>name</th><th style='border: 1px solid #dddddd'>type</th><th style='border: 1px solid #dddddd'>binding_uid</th><th style='border: 1px solid #dddddd'>created</th>\n",
       "                <tr><td style='border: 1px solid #dddddd'>4572a5ca-fd79-4acd-abb1-7f3cb47d18bc</td><td style='border: 1px solid #dddddd'>MNISTModelExp</td><td style='border: 1px solid #dddddd'>model</td><td style='border: 1px solid #dddddd'>b56805ef-6249-4925-8876-044f9b42e446</td><td style='border: 1px solid #dddddd'>2020-02-05T19:03:54.941Z</td></tr>\n",
       "            </table>\n",
       "        </body>\n",
       "        </HTML>"
      ],
      "text/plain": [
       "<IPython.core.display.HTML object>"
      ]
     },
     "metadata": {},
     "output_type": "display_data"
    }
   ],
   "source": [
    "import ibm_ai_openscale\n",
    "\n",
    "aios_client = ibm_ai_openscale.APIClient(AIOS_CREDENTIALS)\n",
    "print(f\"Using IBM OpenScale client version {aios_client.version}\")\n",
    "aios_client.data_mart.subscriptions.list()"
   ]
  },
  {
   "cell_type": "code",
   "execution_count": 16,
   "metadata": {},
   "outputs": [
    {
     "name": "stdout",
     "output_type": "stream",
     "text": [
      "Found an existing subscription 4572a5ca-fd79-4acd-abb1-7f3cb47d18bc for model with name MNISTModelExp\n"
     ]
    }
   ],
   "source": [
    "# Get subscription for our model\n",
    "# Note that if you have been running this code already, this cell finds out the existing subscription details\n",
    "subsUID=[d.get('metadata').get('guid') for d in aios_client.data_mart.subscriptions.get_details().get('subscriptions') if d.get('entity').get('asset').get('name')==model_name]\n",
    "\n",
    "subscription=None\n",
    "if len(subsUID)>0:\n",
    "    subscription=aios_client.data_mart.subscriptions.get(subsUID[0])\n",
    "    print(f\"Found an existing subscription {subsUID[0]} for model with name {model_name}\")"
   ]
  },
  {
   "cell_type": "markdown",
   "metadata": {},
   "source": [
    "> Optional clean-up of previous subscription entries"
   ]
  },
  {
   "cell_type": "code",
   "execution_count": 18,
   "metadata": {},
   "outputs": [],
   "source": [
    "# CLEAN-UP Subscription entries\n",
    "# NOTE that this cell is optional, used to clean-up after successive runs\n",
    "subscriptions_uids = aios_client.data_mart.subscriptions.get_uids()\n",
    "for subscription in subscriptions_uids:\n",
    "    sub_name = aios_client.data_mart.subscriptions.get_details(subscription)['entity']['asset']['name']\n",
    "    if sub_name == model_name:\n",
    "        aios_client.data_mart.subscriptions.delete(subscription)\n",
    "        print(f\"Deleted existing subscription for {model_name}\")"
   ]
  },
  {
   "cell_type": "markdown",
   "metadata": {},
   "source": [
    "### 3.2 Subscribe to the model asset\n",
    "Watson OpenScale will now be set-up to subscribe to the model as an asset\n",
    "\n",
    "This will allow OpenScale to capture scoring requests against the model and produce explanability output"
   ]
  },
  {
   "cell_type": "code",
   "execution_count": 19,
   "metadata": {},
   "outputs": [
    {
     "data": {
      "text/html": [
       "<HTML>\n",
       "        <body>\n",
       "            <h3>Subscriptions</h3>\n",
       "            <table style='border: 1px solid #dddddd; font-family: Courier'>\n",
       "                <th style='border: 1px solid #dddddd'>uid</th><th style='border: 1px solid #dddddd'>name</th><th style='border: 1px solid #dddddd'>type</th><th style='border: 1px solid #dddddd'>binding_uid</th><th style='border: 1px solid #dddddd'>created</th>\n",
       "                <tr><td style='border: 1px solid #dddddd'>604d794e-27c3-4e7d-b138-6858cc903176</td><td style='border: 1px solid #dddddd'>MNISTModelExp</td><td style='border: 1px solid #dddddd'>model</td><td style='border: 1px solid #dddddd'>b56805ef-6249-4925-8876-044f9b42e446</td><td style='border: 1px solid #dddddd'>2020-02-05T23:08:09.375Z</td></tr>\n",
       "            </table>\n",
       "        </body>\n",
       "        </HTML>"
      ],
      "text/plain": [
       "<IPython.core.display.HTML object>"
      ]
     },
     "metadata": {},
     "output_type": "display_data"
    }
   ],
   "source": [
    "# Create an asset for the model to be monitored\n",
    "model_asset = ibm_ai_openscale.engines.WatsonMachineLearningAsset(\n",
    "    model_uid,\n",
    "    problem_type=ibm_ai_openscale.supporting_classes.enums.ProblemType.MULTICLASS_CLASSIFICATION,\n",
    "    input_data_type=ibm_ai_openscale.supporting_classes.enums.InputDataType.UNSTRUCTURED_IMAGE,\n",
    "    probability_column='probability')\n",
    "subscription = aios_client.data_mart.subscriptions.add(model_asset)\n",
    "aios_client.data_mart.subscriptions.list()"
   ]
  },
  {
   "cell_type": "markdown",
   "metadata": {},
   "source": [
    "### 3.3 Score the model and get transaction-id\n",
    "In order to run Watson OpenScale explanability against the Keras model, we will need to generate scoring events.\n",
    "\n",
    "For this we will first load some test data for the MNIST model"
   ]
  },
  {
   "cell_type": "code",
   "execution_count": 20,
   "metadata": {},
   "outputs": [
    {
     "name": "stdout",
     "output_type": "stream",
     "text": [
      "Downloading data from https://s3.amazonaws.com/img-datasets/mnist.npz\n",
      "11493376/11490434 [==============================] - 0s 0us/step\n",
      "x_train shape: (60000, 28, 28, 1)\n",
      "60000 train samples\n",
      "10000 test samples\n"
     ]
    }
   ],
   "source": [
    "import keras\n",
    "\n",
    "# input image dimensions\n",
    "img_rows, img_cols = 28, 28\n",
    "\n",
    "# the data, split between train and test sets\n",
    "(x_train, y_train), (x_test, y_test) = keras.datasets.mnist.load_data()\n",
    "\n",
    "if keras.backend.image_data_format() == 'channels_first':\n",
    "    x_train = x_train.reshape(x_train.shape[0], 1, img_rows, img_cols)\n",
    "    x_test = x_test.reshape(x_test.shape[0], 1, img_rows, img_cols)\n",
    "    input_shape = (1, img_rows, img_cols)\n",
    "else:\n",
    "    x_train = x_train.reshape(x_train.shape[0], img_rows, img_cols, 1)\n",
    "    x_test = x_test.reshape(x_test.shape[0], img_rows, img_cols, 1)\n",
    "    input_shape = (img_rows, img_cols, 1)\n",
    "\n",
    "x_train = x_train.astype('float32')\n",
    "x_test = x_test.astype('float32')\n",
    "x_train /= 255\n",
    "x_test /= 255\n",
    "\n",
    "print('x_train shape:', x_train.shape)\n",
    "print(x_train.shape[0], 'train samples')\n",
    "print(x_test.shape[0], 'test samples')"
   ]
  },
  {
   "cell_type": "markdown",
   "metadata": {},
   "source": [
    "### Selecting an subset of images to run explanability against\n",
    "We will define below the count of images to explain. Note that when using the free lite account, the number of explanaible transactions is limited.   \n",
    "Here we will elect to explain 8 images predictions\n",
    "\n",
    "We will also select an image to start with, arbitrarily somewhere within the dataset.\n",
    "As an alternative, the next cell is scoring the model for a set of predictions in order to find a wrongly predicted image as starting point. To enable this, set the `imgOffset` value to `None`"
   ]
  },
  {
   "cell_type": "code",
   "execution_count": 21,
   "metadata": {},
   "outputs": [],
   "source": [
    "# Configure how many images we want to deal with for explanability, and which image to start with\n",
    "imgCnt=8\n",
    "imgOffset=75"
   ]
  },
  {
   "cell_type": "code",
   "execution_count": 22,
   "metadata": {},
   "outputs": [
    {
     "name": "stdout",
     "output_type": "stream",
     "text": [
      "Starting with image at offset 75\n"
     ]
    }
   ],
   "source": [
    "# For the sake of exemplarity, we will seek for one of the test elements which is predicted wrong\n",
    "import numpy as np\n",
    "if imgOffset is None:\n",
    "    for i,x in enumerate(x_test):\n",
    "        y=cnn_n.predict_classes(np.array([x]))\n",
    "        if y[0] != y_test[i] :\n",
    "            # Use this as one of our image to be explained\n",
    "            imgOffset=i\n",
    "            print(f\"Starting with image at offset {i}, which is an actual {y_test[i]} but predicted by the model as a {y[0]}\")\n",
    "            break\n",
    "else:\n",
    "    print(f\"Starting with image at offset {imgOffset}\")"
   ]
  },
  {
   "cell_type": "markdown",
   "metadata": {},
   "source": [
    "### Execute a scoring transaction through Watson Machine Learning\n",
    "Watson OpenScale has been setup to observe WML scoring transactions through the subscription setup above, we will now score the images to be explained"
   ]
  },
  {
   "cell_type": "code",
   "execution_count": 23,
   "metadata": {},
   "outputs": [],
   "source": [
    "# Score the  digits with WML, so as to get the prediction confidence\n",
    "scoring_data = {'values': [x_test[d+imgOffset].tolist() for d in range(0,imgCnt)]}\n",
    "predictions = wml_client.deployments.score(scoring_url, scoring_data)['values']"
   ]
  },
  {
   "cell_type": "code",
   "execution_count": 24,
   "metadata": {},
   "outputs": [
    {
     "name": "stdout",
     "output_type": "stream",
     "text": [
      "Actual values:    ['   7   ', '   3   ', '   2   ', '   9   ', '   7   ', '   7   ', '   6   ', '   2   ']\n",
      "Predicted values: ['   7   ', '   3   ', '   2   ', '   9   ', '   7   ', '   7   ', '   6   ', '   2   ']\n",
      "Confidence:       ['100.0 %', '100.0 %', '100.0 %', ' 91.6 %', '100.0 %', '100.0 %', '100.0 %', '100.0 %']\n"
     ]
    }
   ],
   "source": [
    "print(f\"Actual values:    {[f'{y_test[d+imgOffset]:^7}' for d in range(0,imgCnt)]}\")\n",
    "print(f\"Predicted values: {[f'{p[1]:^7}' for p in predictions]}\")\n",
    "print(f\"Confidence:       {[f'{100*p[0][p[1]]:^6.1f}%' for p in predictions]}\")"
   ]
  },
  {
   "cell_type": "code",
   "execution_count": 25,
   "metadata": {
    "scrolled": true
   },
   "outputs": [
    {
     "data": {
      "image/png": "[encoded data removed]",
      "text/plain": [
       "<Figure size 2016x2016 with 8 Axes>"
      ]
     },
     "metadata": {},
     "output_type": "display_data"
    }
   ],
   "source": [
    "# Display the input images\n",
    "import numpy as np\n",
    "import matplotlib.pyplot as plt\n",
    "%matplotlib inline\n",
    "\n",
    "f, axarr = plt.subplots(1,imgCnt,figsize=(28, 28))\n",
    "\n",
    "for d in range(0,imgCnt):\n",
    "    axarr[d].set_xticks(())\n",
    "    axarr[d].set_yticks(())\n",
    "    axarr[d].set_title(f\"{predictions[d][1]}\")\n",
    "    axarr[d].title.set_fontsize(20)\n",
    "    axarr[d].set_xlabel(f\"{100*predictions[d][0][predictions[d][1]]:.1f} %\")\n",
    "    axarr[d].xaxis.label.set_fontsize(20)\n",
    "    axarr[d].imshow(np.array(x_test[d+imgOffset], dtype='float').reshape((img_cols, img_rows)), cmap='gray')\n",
    "plt.show()\n",
    "#print(f\"labels: {[y_test[d+imgOffset] for d in range(0,imgCnt)]}\")"
   ]
  },
  {
   "cell_type": "markdown",
   "metadata": {},
   "source": [
    "## Show the scorings recorded through the subscription\n",
    "Now we will look into the data Watson OpenScale has logged during the WML scoring operations which it has subscribed to"
   ]
  },
  {
   "cell_type": "code",
   "execution_count": 26,
   "metadata": {},
   "outputs": [
    {
     "name": "stdout",
     "output_type": "stream",
     "text": [
      "There are 8 scorings recorded in the subscription, we can now request explanations\n"
     ]
    }
   ],
   "source": [
    "table_content=subscription.payload_logging.get_table_content()\n",
    "scoring_ids=table_content.scoring_id\n",
    "if len(scoring_ids)>0: \n",
    "    print(f\"There are {len(scoring_ids)} scorings recorded in the subscription, we can now request explanations\")\n",
    "else:\n",
    "    print(f\"No scorings recorded yet, there may be a delay after scoring before the payloads get stored, waiting...\")\n",
    "    Wait(5)"
   ]
  },
  {
   "cell_type": "markdown",
   "metadata": {},
   "source": [
    "<a id=\"explainability\"></a>\n",
    "## 4. Explainability\n",
    "We will now setup Watson OpenScale's explanability feature for the subscription to the model"
   ]
  },
  {
   "cell_type": "markdown",
   "metadata": {},
   "source": [
    "### 4.1 Configure Explainability"
   ]
  },
  {
   "cell_type": "code",
   "execution_count": 27,
   "metadata": {},
   "outputs": [
    {
     "data": {
      "text/plain": [
       "{'enabled': True, 'parameters': {}}"
      ]
     },
     "execution_count": 27,
     "metadata": {},
     "output_type": "execute_result"
    }
   ],
   "source": [
    "subscription.explainability.enable()\n",
    "subscription.explainability.get_details()"
   ]
  },
  {
   "cell_type": "markdown",
   "metadata": {},
   "source": [
    "### 4.2 Get explanation for the transaction\n",
    "We will now ask Watson OpenScale to generate explanations for the previously monitored and recorded transactions"
   ]
  },
  {
   "cell_type": "code",
   "execution_count": 28,
   "metadata": {},
   "outputs": [
    {
     "name": "stdout",
     "output_type": "stream",
     "text": [
      "\n",
      "\n",
      "================================================================\n",
      "\n",
      " Looking for explanation for a4207adb3488b2c695bb5c947234a6d1-1 \n",
      "\n",
      "================================================================\n",
      "\n",
      "\n",
      "\n",
      "in_progress.....\n",
      "finished\n",
      "\n",
      "---------------------------\n",
      " Successfully finished run \n",
      "---------------------------\n",
      "\n",
      "\n",
      "\n",
      "\n",
      "================================================================\n",
      "\n",
      " Looking for explanation for a4207adb3488b2c695bb5c947234a6d1-2 \n",
      "\n",
      "================================================================\n",
      "\n",
      "\n",
      "\n",
      "in_progress..\n",
      "finished\n",
      "\n",
      "---------------------------\n",
      " Successfully finished run \n",
      "---------------------------\n",
      "\n",
      "\n",
      "\n",
      "\n",
      "================================================================\n",
      "\n",
      " Looking for explanation for a4207adb3488b2c695bb5c947234a6d1-3 \n",
      "\n",
      "================================================================\n",
      "\n",
      "\n",
      "\n",
      "in_progress..\n",
      "finished\n",
      "\n",
      "---------------------------\n",
      " Successfully finished run \n",
      "---------------------------\n",
      "\n",
      "\n",
      "\n",
      "\n",
      "================================================================\n",
      "\n",
      " Looking for explanation for a4207adb3488b2c695bb5c947234a6d1-4 \n",
      "\n",
      "================================================================\n",
      "\n",
      "\n",
      "\n",
      "in_progress.\n",
      "finished\n",
      "\n",
      "---------------------------\n",
      " Successfully finished run \n",
      "---------------------------\n",
      "\n",
      "\n",
      "\n",
      "\n",
      "================================================================\n",
      "\n",
      " Looking for explanation for a4207adb3488b2c695bb5c947234a6d1-5 \n",
      "\n",
      "================================================================\n",
      "\n",
      "\n",
      "\n",
      "in_progress.\n",
      "finished\n",
      "\n",
      "---------------------------\n",
      " Successfully finished run \n",
      "---------------------------\n",
      "\n",
      "\n",
      "\n",
      "\n",
      "================================================================\n",
      "\n",
      " Looking for explanation for a4207adb3488b2c695bb5c947234a6d1-6 \n",
      "\n",
      "================================================================\n",
      "\n",
      "\n",
      "\n",
      "in_progress\n",
      "finished\n",
      "\n",
      "---------------------------\n",
      " Successfully finished run \n",
      "---------------------------\n",
      "\n",
      "\n",
      "\n",
      "\n",
      "================================================================\n",
      "\n",
      " Looking for explanation for a4207adb3488b2c695bb5c947234a6d1-7 \n",
      "\n",
      "================================================================\n",
      "\n",
      "\n",
      "\n",
      "in_progress..\n",
      "finished\n",
      "\n",
      "---------------------------\n",
      " Successfully finished run \n",
      "---------------------------\n",
      "\n",
      "\n",
      "\n",
      "\n",
      "================================================================\n",
      "\n",
      " Looking for explanation for a4207adb3488b2c695bb5c947234a6d1-8 \n",
      "\n",
      "================================================================\n",
      "\n",
      "\n",
      "\n",
      "in_progress.\n",
      "finished\n",
      "\n",
      "---------------------------\n",
      " Successfully finished run \n",
      "---------------------------\n",
      "\n",
      "\n"
     ]
    }
   ],
   "source": [
    "try :\n",
    "    explanations = [subscription.explainability.run(s, background_mode=False,cem=True) for s in scoring_ids]\n",
    "except Exception as exc:\n",
    "    print(f\"Something went wrong, exception {exc}\")\n",
    "    wml_client.repository.delete(model_uid)\n",
    "    deployment_id = wml_client.deployments.get_uid(deployment)\n",
    "    wml_client.deployments.delete(deployment_id)"
   ]
  },
  {
   "cell_type": "markdown",
   "metadata": {},
   "source": [
    "If you get an error in the previous cell, with a message something ending by **KeyError: 'cem_state'** it's due to a bug in the python library.\n",
    "\n",
    "To circumvent this, you can collect the `transaction_id`s from the cell above and use it in the Watson OpenScale UI at https://aiopenscale.cloud.ibm.com/aiopenscale/explain to get the result of the image model explainability for that transaction.\n",
    "    \n",
    "**Explaining image model transactions**\n",
    "\n",
    "For an image classification model example of explainability, you can see which parts of an image contributed positively to the predicted outcome and which contributed negatively. In the following example, the image in the positive pane shows the parts which impacted positively to the prediction and the image in the negative pane shows the parts of images that had a negative impact on the outcome.\n",
    "\n",
    "The code below will display the positive, original and negative contributions respectively"
   ]
  },
  {
   "cell_type": "code",
   "execution_count": 30,
   "metadata": {},
   "outputs": [
    {
     "data": {
      "image/png": "[encoded data removed]",
      "text/plain": [
       "<Figure size 4320x1440 with 24 Axes>"
      ]
     },
     "metadata": {},
     "output_type": "display_data"
    }
   ],
   "source": [
    "import io, base64\n",
    "\n",
    "cmaps=['Blues',None,'Reds']\n",
    "f, axarr = plt.subplots(len(cmaps),len(explanations),figsize=(len(cmaps)*20,20))\n",
    "\n",
    "for ie, e in enumerate([e['entity'] for e in explanations if e]):\n",
    "    y_pred=table_content.prediction_classes[ie]\n",
    "    preds=[e['predictions'][i] for i in (0,1)]\n",
    "    descs=[preds[0]['value'],'input',preds[1]['value']]\n",
    "    if not 'probability' in preds[1].keys(): preds[1]['probability']=0.0 # Fix for transient issue...\n",
    "    titles=[f\"{100*preds[0]['probability']:.1f} %\",None,f\"{100*preds[1]['probability']:.1f} %\"]\n",
    "    \n",
    "    imgs=[plt.imread(io.BytesIO(base64.b64decode(img))) for img in\n",
    "          [preds[0]['explanation'][0]['full_image'], e['input_features'][0]['full_image'], preds[1]['explanation'][0]['full_image']]]\n",
    "\n",
    "    for ii, img in enumerate(imgs):\n",
    "        # Add text to the images axes\n",
    "        ax=axarr[ii,ie]\n",
    "        ax.set_xticks(())\n",
    "        ax.set_yticks(())\n",
    "        if ii==len(imgs)-1: ax.set_xlabel(f\"{y_pred}\",{'fontsize':100})\n",
    "        ax.set_ylabel(descs[ii],{'fontsize':50})\n",
    "        ax.set_title(titles[ii],{'fontsize':30})\n",
    "        \n",
    "        if cmaps[ii]:\n",
    "            # change to gray scale, so as to use a colormap\n",
    "            ax.imshow(np.array([[img[x,y][0] for y in range(0,img.shape[1])] for x in range(0,img.shape[0])]),cmap=cmaps[ii])\n",
    "        else:\n",
    "            ax.imshow(img)\n",
    "        #elif ii==1: ax.imshow(img)\n",
    "        #else : ax.imshow(img2,cmap='Reds')\n",
    "plt.show()"
   ]
  }
 ],
 "metadata": {
  "kernelspec": {
   "display_name": "Python 3.6",
   "language": "python",
   "name": "python3"
  },
  "language_info": {
   "codemirror_mode": {
    "name": "ipython",
    "version": 3
   },
   "file_extension": ".py",
   "mimetype": "text/x-python",
   "name": "python",
   "nbconvert_exporter": "python",
   "pygments_lexer": "ipython3",
   "version": "3.6.9"
  }
 },
 "nbformat": 4,
 "nbformat_minor": 2
}
